{
  "nbformat": 4,
  "nbformat_minor": 0,
  "metadata": {
    "colab": {
      "provenance": [],
      "authorship_tag": "ABX9TyMEjkfPK75ykpcuqkiGbCDQ",
      "include_colab_link": true
    },
    "kernelspec": {
      "name": "python3",
      "display_name": "Python 3"
    },
    "language_info": {
      "name": "python"
    }
  },
  "cells": [
    {
      "cell_type": "markdown",
      "metadata": {
        "id": "view-in-github",
        "colab_type": "text"
      },
      "source": [
        "<a href=\"https://colab.research.google.com/github/tr-dev-bc/Modern_CV_Assignments/blob/main/steps_6_7.ipynb\" target=\"_parent\"><img src=\"https://colab.research.google.com/assets/colab-badge.svg\" alt=\"Open In Colab\"/></a>"
      ]
    },
    {
      "cell_type": "markdown",
      "source": [
        "# STEP 6"
      ],
      "metadata": {
        "id": "StHdYi2Qi6fU"
      }
    },
    {
      "cell_type": "code",
      "execution_count": 6,
      "metadata": {
        "id": "JZgJ4RpOi4fk"
      },
      "outputs": [],
      "source": [
        "from torch.utils.data import Dataset, DataLoader\n",
        "import torch\n",
        "import torch.nn as nn\n",
        "import numpy as np\n",
        "import matplotlib.pyplot as plt         # used to plot error later\n",
        "# helps running in jupyter\n",
        "%matplotlib inline\n",
        "\n",
        "from torchvision import datasets, models\n",
        "\n",
        "# Set device\n",
        "device = \"cuda\" if torch.cuda.is_available() else \"cpu\"         # switch for gpu else cpu\n",
        "\n",
        "# load and normalize the fmnist dataset\n",
        "data_folder = '~/FMNIST'\n",
        "fmnist = datasets.FashionMNIST(data_folder, download=True, train=True)\n",
        "tr_images = fmnist.data\n",
        "tr_targets = fmnist.targets"
      ]
    },
    {
      "cell_type": "code",
      "source": [
        "class FMNISTDataset(Dataset):\n",
        "    def __init__(self, x, y):\n",
        "        x = x.float()/(255) # Normalizes images to [0,1]\n",
        "        x = x.view(-1,1, 28,28)\n",
        "        x = x.repeat(1, 3, 1, 1)\n",
        "        self.x, self.y = x, y\n",
        "    def __getitem__(self, ix):\n",
        "        x, y = self.x[ix], self.y[ix]  # unpack tuple into variables\n",
        "        return x.to(device), y.to(device)\n",
        "    def __len__(self):\n",
        "        return len(self.x)"
      ],
      "metadata": {
        "id": "RaSJZWiCi_CX"
      },
      "execution_count": 7,
      "outputs": []
    },
    {
      "cell_type": "code",
      "source": [
        "def get_data():\n",
        "    train = FMNISTDataset(tr_images, tr_targets)\n",
        "    trn_dl = DataLoader(train, batch_size=64, shuffle=True)         # batch size is 64\n",
        "    return trn_dl\n",
        "    #The DataLoader class in PyTorch loads dataset data, cuts it into batches, shuffles it"
      ],
      "metadata": {
        "id": "1b83BZnojAw7"
      },
      "execution_count": 8,
      "outputs": []
    },
    {
      "cell_type": "markdown",
      "source": [
        "# Adding RESNET18"
      ],
      "metadata": {
        "id": "3zdSSg2fjBRS"
      }
    },
    {
      "cell_type": "code",
      "source": [
        "def get_model():\n",
        "    model = models.resnet18(pretrained=True)  # Load pre-trained ResNet18\n",
        "    # freeze all but final fully connected layer\n",
        "    for param in model.parameters():\n",
        "        param.requires_grad = False\n",
        "\n",
        "    # change final layer outputing 10 classes\n",
        "    model.fc = nn.Linear(model.fc.in_features, 10)\n",
        "\n",
        "    model = model.to(device)  # moves to the GPU to make it faster\n",
        "    loss_fn = nn.CrossEntropyLoss()  # required cross-entropy loss function\n",
        "    optimizer = torch.optim.SGD(model.fc.parameters(), lr=1e-2)  # Optimize only the final layer\n",
        "    return model, loss_fn, optimizer"
      ],
      "metadata": {
        "id": "3RyVP499jFG2"
      },
      "execution_count": 9,
      "outputs": []
    },
    {
      "cell_type": "markdown",
      "source": [
        "# STEP 7: Train the fine-tuned ResNet18 model (from Question 6) on the Fashion-MNIST dataset for 5 epochs."
      ],
      "metadata": {
        "id": "tO2MWI7ojiDJ"
      }
    },
    {
      "cell_type": "code",
      "source": [
        "# loading up traiing data\n",
        "train_loader = get_data()\n",
        "model, loss_fn, optimizer = get_model()\n",
        "\n",
        "# training loop with tracking of loss\n",
        "num_epochs = 5\n",
        "train_losses = []\n",
        "\n",
        "for epoch in range(num_epochs):\n",
        "    model.train()\n",
        "    epoch_loss = 0\n",
        "\n",
        "    for x, y in train_loader:\n",
        "        x, y = x.to(device), y.to(device)\n",
        "\n",
        "        # Forward pass\n",
        "        optimizer.zero_grad()\n",
        "        predictions = model(x)\n",
        "        loss = loss_fn(predictions, y)\n",
        "\n",
        "        # Backward pass and optimization\n",
        "        loss.backward()\n",
        "        optimizer.step()\n",
        "\n",
        "        epoch_loss += loss.item()\n",
        "\n",
        "    average_loss = epoch_loss / len(train_loader)\n",
        "    train_losses.append(average_loss)\n",
        "    print(f'Epoch {epoch + 1}/{num_epochs}, Loss: {average_loss:.4f}')"
      ],
      "metadata": {
        "colab": {
          "base_uri": "https://localhost:8080/"
        },
        "id": "u7uIpl6XjRzp",
        "outputId": "faaffa83-5bfa-49c8-8b22-a9b3c90fee1e"
      },
      "execution_count": 10,
      "outputs": [
        {
          "output_type": "stream",
          "name": "stdout",
          "text": [
            "Epoch 1/5, Loss: 1.0919\n",
            "Epoch 2/5, Loss: 0.8791\n",
            "Epoch 3/5, Loss: 0.8463\n",
            "Epoch 4/5, Loss: 0.8229\n",
            "Epoch 5/5, Loss: 0.8163\n"
          ]
        }
      ]
    },
    {
      "cell_type": "code",
      "source": [
        "plt.plot(train_losses)\n",
        "plt.xlabel('Epochs')\n",
        "plt.ylabel('Loss')\n",
        "plt.title('Training Loss')\n",
        "plt.grid()\n",
        "plt.show()"
      ],
      "metadata": {
        "id": "Lil8AjRHjT51",
        "colab": {
          "base_uri": "https://localhost:8080/",
          "height": 472
        },
        "outputId": "f06271e6-1154-43ae-d8dd-33beb184f988"
      },
      "execution_count": 11,
      "outputs": [
        {
          "output_type": "display_data",
          "data": {
            "text/plain": [
              "<Figure size 640x480 with 1 Axes>"
            ],
            "image/png": "[encoded data removed]"
          },
          "metadata": {}
        }
      ]
    }
  ]
}