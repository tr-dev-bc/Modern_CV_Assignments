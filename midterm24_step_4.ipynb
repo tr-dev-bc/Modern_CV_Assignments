{
  "nbformat": 4,
  "nbformat_minor": 0,
  "metadata": {
    "colab": {
      "provenance": [],
      "include_colab_link": true
    },
    "kernelspec": {
      "name": "python3",
      "display_name": "Python 3"
    },
    "language_info": {
      "name": "python"
    }
  },
  "cells": [
    {
      "cell_type": "markdown",
      "metadata": {
        "id": "view-in-github",
        "colab_type": "text"
      },
      "source": [
        "<a href=\"https://colab.research.google.com/github/tr-dev-bc/Modern_CV_Assignments/blob/main/midterm24_step_4.ipynb\" target=\"_parent\"><img src=\"https://colab.research.google.com/assets/colab-badge.svg\" alt=\"Open In Colab\"/></a>"
      ]
    },
    {
      "cell_type": "markdown",
      "source": [
        "# STEP 4"
      ],
      "metadata": {
        "id": "UV6yfRgpYTdQ"
      }
    },
    {
      "cell_type": "code",
      "execution_count": 1,
      "metadata": {
        "id": "ivMIzLn_rfTo",
        "colab": {
          "base_uri": "https://localhost:8080/"
        },
        "outputId": "d79c6a94-e3ba-4ae1-b495-a4556c0bc587"
      },
      "outputs": [
        {
          "output_type": "stream",
          "name": "stdout",
          "text": [
            "Downloading http://fashion-mnist.s3-website.eu-central-1.amazonaws.com/train-images-idx3-ubyte.gz\n",
            "Downloading http://fashion-mnist.s3-website.eu-central-1.amazonaws.com/train-images-idx3-ubyte.gz to /root/FMNIST/FashionMNIST/raw/train-images-idx3-ubyte.gz\n"
          ]
        },
        {
          "output_type": "stream",
          "name": "stderr",
          "text": [
            "100%|██████████| 26.4M/26.4M [00:02<00:00, 12.7MB/s]\n"
          ]
        },
        {
          "output_type": "stream",
          "name": "stdout",
          "text": [
            "Extracting /root/FMNIST/FashionMNIST/raw/train-images-idx3-ubyte.gz to /root/FMNIST/FashionMNIST/raw\n",
            "\n",
            "Downloading http://fashion-mnist.s3-website.eu-central-1.amazonaws.com/train-labels-idx1-ubyte.gz\n",
            "Downloading http://fashion-mnist.s3-website.eu-central-1.amazonaws.com/train-labels-idx1-ubyte.gz to /root/FMNIST/FashionMNIST/raw/train-labels-idx1-ubyte.gz\n"
          ]
        },
        {
          "output_type": "stream",
          "name": "stderr",
          "text": [
            "100%|██████████| 29.5k/29.5k [00:00<00:00, 202kB/s]\n"
          ]
        },
        {
          "output_type": "stream",
          "name": "stdout",
          "text": [
            "Extracting /root/FMNIST/FashionMNIST/raw/train-labels-idx1-ubyte.gz to /root/FMNIST/FashionMNIST/raw\n",
            "\n",
            "Downloading http://fashion-mnist.s3-website.eu-central-1.amazonaws.com/t10k-images-idx3-ubyte.gz\n",
            "Downloading http://fashion-mnist.s3-website.eu-central-1.amazonaws.com/t10k-images-idx3-ubyte.gz to /root/FMNIST/FashionMNIST/raw/t10k-images-idx3-ubyte.gz\n"
          ]
        },
        {
          "output_type": "stream",
          "name": "stderr",
          "text": [
            "100%|██████████| 4.42M/4.42M [00:01<00:00, 3.75MB/s]\n"
          ]
        },
        {
          "output_type": "stream",
          "name": "stdout",
          "text": [
            "Extracting /root/FMNIST/FashionMNIST/raw/t10k-images-idx3-ubyte.gz to /root/FMNIST/FashionMNIST/raw\n",
            "\n",
            "Downloading http://fashion-mnist.s3-website.eu-central-1.amazonaws.com/t10k-labels-idx1-ubyte.gz\n",
            "Downloading http://fashion-mnist.s3-website.eu-central-1.amazonaws.com/t10k-labels-idx1-ubyte.gz to /root/FMNIST/FashionMNIST/raw/t10k-labels-idx1-ubyte.gz\n"
          ]
        },
        {
          "output_type": "stream",
          "name": "stderr",
          "text": [
            "100%|██████████| 5.15k/5.15k [00:00<00:00, 3.91MB/s]"
          ]
        },
        {
          "output_type": "stream",
          "name": "stdout",
          "text": [
            "Extracting /root/FMNIST/FashionMNIST/raw/t10k-labels-idx1-ubyte.gz to /root/FMNIST/FashionMNIST/raw\n",
            "\n"
          ]
        },
        {
          "output_type": "stream",
          "name": "stderr",
          "text": [
            "\n"
          ]
        }
      ],
      "source": [
        "from torch.utils.data import Dataset, DataLoader\n",
        "import torch\n",
        "import torch.nn as nn\n",
        "import numpy as np\n",
        "import matplotlib.pyplot as plt         # used to plot error later\n",
        "# helps running in jupyter\n",
        "%matplotlib inline\n",
        "\n",
        "from torchvision import datasets\n",
        "\n",
        "# Set device\n",
        "device = \"cuda\" if torch.cuda.is_available() else \"cpu\"         # switch for gpu else cpu\n",
        "\n",
        "# load and normalize the fmnist dataset\n",
        "data_folder = '~/FMNIST'\n",
        "fmnist = datasets.FashionMNIST(data_folder, download=True, train=True)\n",
        "tr_images = fmnist.data\n",
        "tr_targets = fmnist.targets"
      ]
    },
    {
      "cell_type": "code",
      "source": [
        "class FMNISTDataset(Dataset):\n",
        "    def __init__(self, x, y):\n",
        "        x = x.float()/(255) # Normalizes images to [0,1]\n",
        "        x = x.view(-1,1, 28,28)\n",
        "        self.x, self.y = x, y\n",
        "    def __getitem__(self, ix):\n",
        "        x, y = self.x[ix], self.y[ix]  # unpack tuple into variables\n",
        "        return x.to(device), y.to(device)\n",
        "    def __len__(self):\n",
        "        return len(self.x)"
      ],
      "metadata": {
        "id": "vsqUQV_R2nJX"
      },
      "execution_count": 2,
      "outputs": []
    },
    {
      "cell_type": "code",
      "source": [
        "def get_data():\n",
        "    train = FMNISTDataset(tr_images, tr_targets)\n",
        "    trn_dl = DataLoader(train, batch_size=64, shuffle=True)         # batch size is 64\n",
        "    return trn_dl\n",
        "    #The DataLoader class in PyTorch loads dataset data, cuts it into batches, shuffles it"
      ],
      "metadata": {
        "id": "ISQFoNsN3LDH"
      },
      "execution_count": 3,
      "outputs": []
    },
    {
      "cell_type": "code",
      "source": [
        "from torch.optim import SGD\n",
        "def get_model():\n",
        "  class neuralnet(nn.Module):\n",
        "    def __init__(self):\n",
        "      super().__init__()\n",
        "      # A convolutional layer with 32 filters, kernel size of 3, and stride of 1\n",
        "        self.conv_layer = nn.Conv2d(in_channels=1, out_channels=32, kernel_size=3, stride=1)  # added to process images, 1 channel for grayscale\n",
        "      # A max-pooling layer with a kernel size of 2\n",
        "        self.pool = nn.MaxPool2d(kernel_size=2)  # downsampling feature maps\n",
        "        self.flatten = nn.Flatten()  # convert feature map to single D tensor\n",
        "      # Flatten layer to connect the convolutional layers to the fully connected layers\n",
        "        self.input_to_hidden_layer = nn.Linear(32 * 13 * 13, 128)  # changed input size after conv and pool\n",
        "        self.batch_norm = nn.BatchNorm1d(128)\n",
        "        self.hidden_layer_activation = nn.ReLU()\n",
        "        self.hidden_to_output_layer = nn.Linear(128, 10)\n",
        "    def forward(self,x):\n",
        "        x = self.conv_layer(x)\n",
        "        x = self.pool(x)\n",
        "        x = self.flatten(x)\n",
        "        x = self.input_to_hidden_layer(x)\n",
        "        x0 = self.batch_norm(x)\n",
        "        x1 = self.hidden_layer_activation(x0)\n",
        "        x2 = self.hidden_to_output_layer(x1)\n",
        "          return x2\n",
        "  model = neuralnet().to(device) # moves to the GPU to make it faster\n",
        "  loss_fn = nn.CrossEntropyLoss()     # requ ired cross entropy loss function\n",
        "  optimizer = SGD(model.parameters(), lr=1e-2) # model.parameters() retrieves all the parameters of the model that need to be optimized.\n",
        "  return model, loss_fn, optimizer"
      ],
      "metadata": {
        "id": "NY0ZKWGc3kuy",
        "colab": {
          "base_uri": "https://localhost:8080/",
          "height": 110
        },
        "outputId": "e2be2643-7a48-41a9-b508-81fd67dffc39"
      },
      "execution_count": 6,
      "outputs": [
        {
          "output_type": "error",
          "ename": "IndentationError",
          "evalue": "unexpected indent (<ipython-input-6-a7fdce0f950d>, line 7)",
          "traceback": [
            "\u001b[0;36m  File \u001b[0;32m\"<ipython-input-6-a7fdce0f950d>\"\u001b[0;36m, line \u001b[0;32m7\u001b[0m\n\u001b[0;31m    self.conv_layer = nn.Conv2d(in_channels=1, out_channels=32, kernel_size=3, stride=1)  # added to process images, 1 channel for grayscale\u001b[0m\n\u001b[0m    ^\u001b[0m\n\u001b[0;31mIndentationError\u001b[0m\u001b[0;31m:\u001b[0m unexpected indent\n"
          ]
        }
      ]
    },
    {
      "cell_type": "code",
      "source": [
        "# loading up traiing data\n",
        "train_loader = get_data()\n",
        "model, loss_fn, optimizer = get_model()\n",
        "\n",
        "# training loop with tracking of loss\n",
        "num_epochs = 10\n",
        "train_losses = []\n",
        "\n",
        "for epoch in range(num_epochs):\n",
        "    model.train()\n",
        "    epoch_loss = 0\n",
        "\n",
        "    for x, y in train_loader:\n",
        "        x, y = x.to(device), y.to(device)\n",
        "\n",
        "        # Forward pass\n",
        "        optimizer.zero_grad()\n",
        "        predictions = model(x)\n",
        "        loss = loss_fn(predictions, y)\n",
        "\n",
        "        # Backward pass and optimization\n",
        "        loss.backward()\n",
        "        optimizer.step()\n",
        "\n",
        "        epoch_loss += loss.item()\n",
        "\n",
        "    average_loss = epoch_loss / len(train_loader)\n",
        "    train_losses.append(average_loss)\n",
        "    print(f'Epoch {epoch + 1}/{num_epochs}, Loss: {average_loss:.4f}')"
      ],
      "metadata": {
        "id": "EBJCvCM7Typ2"
      },
      "execution_count": null,
      "outputs": []
    },
    {
      "cell_type": "markdown",
      "source": [
        "PLOT OF LOSS:"
      ],
      "metadata": {
        "id": "gvQQXl6VXRyz"
      }
    },
    {
      "cell_type": "code",
      "source": [
        "plt.plot(train_losses)\n",
        "plt.xlabel('Epochs')\n",
        "plt.ylabel('Loss')\n",
        "plt.title('Training Loss')\n",
        "plt.grid()\n",
        "plt.show()"
      ],
      "metadata": {
        "id": "I6FpjbIoXVbq"
      },
      "execution_count": null,
      "outputs": []
    },
    {
      "cell_type": "markdown",
      "source": [
        "# STEP 4\n"
      ],
      "metadata": {
        "id": "2YNRpGjZYMH-"
      }
    },
    {
      "cell_type": "code",
      "source": [],
      "metadata": {
        "id": "EnmzPe46YSXe"
      },
      "execution_count": null,
      "outputs": []
    }
  ]
}