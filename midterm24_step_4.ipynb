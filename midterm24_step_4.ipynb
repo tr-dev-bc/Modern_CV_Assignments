{
  "nbformat": 4,
  "nbformat_minor": 0,
  "metadata": {
    "colab": {
      "provenance": [],
      "include_colab_link": true
    },
    "kernelspec": {
      "name": "python3",
      "display_name": "Python 3"
    },
    "language_info": {
      "name": "python"
    }
  },
  "cells": [
    {
      "cell_type": "markdown",
      "metadata": {
        "id": "view-in-github",
        "colab_type": "text"
      },
      "source": [
        "<a href=\"https://colab.research.google.com/github/tr-dev-bc/Modern_CV_Assignments/blob/main/midterm24_step_4.ipynb\" target=\"_parent\"><img src=\"https://colab.research.google.com/assets/colab-badge.svg\" alt=\"Open In Colab\"/></a>"
      ]
    },
    {
      "cell_type": "markdown",
      "source": [
        "# STEP 4"
      ],
      "metadata": {
        "id": "UV6yfRgpYTdQ"
      }
    },
    {
      "cell_type": "code",
      "execution_count": null,
      "metadata": {
        "id": "ivMIzLn_rfTo"
      },
      "outputs": [],
      "source": [
        "from torch.utils.data import Dataset, DataLoader\n",
        "import torch\n",
        "import torch.nn as nn\n",
        "import numpy as np\n",
        "import matplotlib.pyplot as plt         # used to plot error later\n",
        "# helps running in jupyter\n",
        "%matplotlib inline\n",
        "\n",
        "from torchvision import datasets\n",
        "\n",
        "# Set device\n",
        "device = \"cuda\" if torch.cuda.is_available() else \"cpu\"         # switch for gpu else cpu\n",
        "\n",
        "# load and normalize the fmnist dataset\n",
        "data_folder = '~/FMNIST'\n",
        "fmnist = datasets.FashionMNIST(data_folder, download=True, train=True)\n",
        "tr_images = fmnist.data\n",
        "tr_targets = fmnist.targets"
      ]
    },
    {
      "cell_type": "code",
      "source": [
        "class FMNISTDataset(Dataset):\n",
        "    def __init__(self, x, y):\n",
        "        x = x.float()/(255) # Normalizes images to [0,1]\n",
        "        x = x.view(-1, 28 * 28) # flattens this into a vector (1D) - the view() method is used to reshape a tensor without changing its data.\n",
        "                             # converts the 28x28 pixel images into a single vector of 784 elements\n",
        "                             # -1 is a placeholder for one of the dimensions, allows PyTorch to automatically calculate that dimension based on the total number of elements\n",
        "        self.x, self.y = x, y\n",
        "    def __getitem__(self, ix):\n",
        "        x, y = self.x[ix], self.y[ix]  # unpack tuple into variables\n",
        "        return x.to(device), y.to(device)\n",
        "    def __len__(self):\n",
        "        return len(self.x)"
      ],
      "metadata": {
        "id": "vsqUQV_R2nJX"
      },
      "execution_count": null,
      "outputs": []
    },
    {
      "cell_type": "code",
      "source": [
        "def get_data():\n",
        "    train = FMNISTDataset(tr_images, tr_targets)\n",
        "    trn_dl = DataLoader(train, batch_size=64, shuffle=True)         # batch size is 64\n",
        "    return trn_dl\n",
        "    #The DataLoader class in PyTorch loads dataset data, cuts it into batches, shuffles it"
      ],
      "metadata": {
        "id": "ISQFoNsN3LDH"
      },
      "execution_count": null,
      "outputs": []
    },
    {
      "cell_type": "code",
      "source": [
        "from torch.optim import SGD\n",
        "def get_model():\n",
        "  class neuralnet(nn.Module):\n",
        "    def __init__(self):\n",
        "      super().__init__()\n",
        "          self.conv_layer = nn.Conv2d(in_channels=1, out_channels=32, kernel_size=3, stride=1)  # added to process images, 1 channel for grayscale\n",
        "          self.pool = nn.MaxPool2d(kernel_size=2)  # downsampling feature maps\n",
        "          self.flatten = nn.Flatten()  # convert feature map to single D tensor\n",
        "          self.input_to_hidden_layer = nn.Linear(32 * 13 * 13, 128)  # changed input size after conv and pool\n",
        "          self.batch_norm = nn.BatchNorm1d(128)\n",
        "          self.hidden_layer_activation = nn.ReLU()\n",
        "          self.hidden_to_output_layer = nn.Linear(128, 10)\n",
        "    def forward(self,x):\n",
        "          x = self.conv_layer(x.unsqueeze(1))  # Add channel dimension for the conv2D layer\n",
        "          x = self.pool(x)\n",
        "          x = self.flatten(x)\n",
        "          x = self.input_to_hidden_layer(x)\n",
        "          x0 = self.batch_norm(x)\n",
        "          x1 = self.hidden_layer_activation(x0)\n",
        "          x2 = self.hidden_to_output_layer(x1)\n",
        "      return x2\n",
        "  model = neuralnet().to(device) # moves to the GPU to make it faster\n",
        "  loss_fn = nn.CrossEntropyLoss()     # requ ired cross entropy loss function\n",
        "  optimizer = SGD(model.parameters(), lr=1e-2) # model.parameters() retrieves all the parameters of the model that need to be optimized.\n",
        "  return model, loss_fn, optimizer"
      ],
      "metadata": {
        "id": "NY0ZKWGc3kuy"
      },
      "execution_count": null,
      "outputs": []
    },
    {
      "cell_type": "code",
      "source": [
        "# loading up traiing data\n",
        "train_loader = get_data()\n",
        "model, loss_fn, optimizer = get_model()\n",
        "\n",
        "# training loop with tracking of loss\n",
        "num_epochs = 10\n",
        "train_losses = []\n",
        "\n",
        "for epoch in range(num_epochs):\n",
        "    model.train()\n",
        "    epoch_loss = 0\n",
        "\n",
        "    for x, y in train_loader:\n",
        "        x, y = x.to(device), y.to(device)\n",
        "\n",
        "        # Forward pass\n",
        "        optimizer.zero_grad()\n",
        "        predictions = model(x)\n",
        "        loss = loss_fn(predictions, y)\n",
        "\n",
        "        # Backward pass and optimization\n",
        "        loss.backward()\n",
        "        optimizer.step()\n",
        "\n",
        "        epoch_loss += loss.item()\n",
        "\n",
        "    average_loss = epoch_loss / len(train_loader)\n",
        "    train_losses.append(average_loss)\n",
        "    print(f'Epoch {epoch + 1}/{num_epochs}, Loss: {average_loss:.4f}')"
      ],
      "metadata": {
        "colab": {
          "base_uri": "https://localhost:8080/"
        },
        "id": "EBJCvCM7Typ2",
        "outputId": "3ab98285-c460-47d3-b556-7704d4cb42b2"
      },
      "execution_count": null,
      "outputs": [
        {
          "output_type": "stream",
          "name": "stdout",
          "text": [
            "Epoch 1/10, Loss: 0.6635\n",
            "Epoch 2/10, Loss: 0.4503\n",
            "Epoch 3/10, Loss: 0.4068\n",
            "Epoch 4/10, Loss: 0.3802\n",
            "Epoch 5/10, Loss: 0.3626\n",
            "Epoch 6/10, Loss: 0.3467\n",
            "Epoch 7/10, Loss: 0.3346\n",
            "Epoch 8/10, Loss: 0.3231\n",
            "Epoch 9/10, Loss: 0.3117\n",
            "Epoch 10/10, Loss: 0.3046\n"
          ]
        }
      ]
    },
    {
      "cell_type": "markdown",
      "source": [
        "PLOT OF LOSS:"
      ],
      "metadata": {
        "id": "gvQQXl6VXRyz"
      }
    },
    {
      "cell_type": "code",
      "source": [
        "plt.plot(train_losses)\n",
        "plt.xlabel('Epochs')\n",
        "plt.ylabel('Loss')\n",
        "plt.title('Training Loss')\n",
        "plt.grid()\n",
        "plt.show()"
      ],
      "metadata": {
        "colab": {
          "base_uri": "https://localhost:8080/",
          "height": 472
        },
        "id": "I6FpjbIoXVbq",
        "outputId": "a21424ec-5df4-48ad-c341-53aa07594697"
      },
      "execution_count": null,
      "outputs": [
        {
          "output_type": "display_data",
          "data": {
            "text/plain": [
              "<Figure size 640x480 with 1 Axes>"
            ],
            "image/png": "[encoded data removed]"
          },
          "metadata": {}
        }
      ]
    },
    {
      "cell_type": "markdown",
      "source": [
        "# STEP 4\n"
      ],
      "metadata": {
        "id": "2YNRpGjZYMH-"
      }
    },
    {
      "cell_type": "code",
      "source": [],
      "metadata": {
        "id": "EnmzPe46YSXe"
      },
      "execution_count": null,
      "outputs": []
    }
  ]
}