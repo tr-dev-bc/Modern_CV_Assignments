{
  "nbformat": 4,
  "nbformat_minor": 0,
  "metadata": {
    "colab": {
      "provenance": [],
      "authorship_tag": "ABX9TyNF3Dn+/sgm+ZdEXcuhQgBZ",
      "include_colab_link": true
    },
    "kernelspec": {
      "name": "python3",
      "display_name": "Python 3"
    },
    "language_info": {
      "name": "python"
    }
  },
  "cells": [
    {
      "cell_type": "markdown",
      "metadata": {
        "id": "view-in-github",
        "colab_type": "text"
      },
      "source": [
        "<a href=\"https://colab.research.google.com/github/tr-dev-bc/Modern_CV_Assignments/blob/main/step_8.ipynb\" target=\"_parent\"><img src=\"https://colab.research.google.com/assets/colab-badge.svg\" alt=\"Open In Colab\"/></a>"
      ]
    },
    {
      "cell_type": "code",
      "execution_count": 1,
      "metadata": {
        "id": "sLsCeA-DtCeI"
      },
      "outputs": [],
      "source": [
        "from torch.utils.data import Dataset, DataLoader\n",
        "import torch\n",
        "import torch.nn as nn\n",
        "import numpy as np\n",
        "import matplotlib.pyplot as plt  # used to plot error later\n",
        "# helps running in jupyter\n",
        "%matplotlib inline\n",
        "\n",
        "from torchvision import datasets, transforms\n",
        "from torch.optim import SGD\n"
      ]
    },
    {
      "cell_type": "code",
      "source": [
        "\n",
        "\n",
        "# Set device\n",
        "device = \"cuda\" if torch.cuda.is_available() else \"cpu\"  # switch for gpu else cpu\n",
        "\n",
        "# Load and normalize the Fashion-MNIST dataset\n",
        "data_folder = '~/FMNIST'\n",
        "fmnist_train = datasets.FashionMNIST(data_folder, download=True, train=True)\n",
        "fmnist_valid = datasets.FashionMNIST(data_folder, download=True, train=False)\n",
        "tr_images = fmnist_train.data\n",
        "tr_targets = fmnist_train.targets\n",
        "val_images = fmnist_valid.data\n",
        "val_targets = fmnist_valid.targets\n"
      ],
      "metadata": {
        "colab": {
          "base_uri": "https://localhost:8080/"
        },
        "id": "PBYJbJChtIsb",
        "outputId": "e38eaafa-da05-4d4c-a08f-14aa373318db"
      },
      "execution_count": 2,
      "outputs": [
        {
          "output_type": "stream",
          "name": "stdout",
          "text": [
            "Downloading http://fashion-mnist.s3-website.eu-central-1.amazonaws.com/train-images-idx3-ubyte.gz\n",
            "Downloading http://fashion-mnist.s3-website.eu-central-1.amazonaws.com/train-images-idx3-ubyte.gz to /root/FMNIST/FashionMNIST/raw/train-images-idx3-ubyte.gz\n"
          ]
        },
        {
          "output_type": "stream",
          "name": "stderr",
          "text": [
            "100%|██████████| 26.4M/26.4M [00:01<00:00, 13.9MB/s]\n"
          ]
        },
        {
          "output_type": "stream",
          "name": "stdout",
          "text": [
            "Extracting /root/FMNIST/FashionMNIST/raw/train-images-idx3-ubyte.gz to /root/FMNIST/FashionMNIST/raw\n",
            "\n",
            "Downloading http://fashion-mnist.s3-website.eu-central-1.amazonaws.com/train-labels-idx1-ubyte.gz\n",
            "Downloading http://fashion-mnist.s3-website.eu-central-1.amazonaws.com/train-labels-idx1-ubyte.gz to /root/FMNIST/FashionMNIST/raw/train-labels-idx1-ubyte.gz\n"
          ]
        },
        {
          "output_type": "stream",
          "name": "stderr",
          "text": [
            "100%|██████████| 29.5k/29.5k [00:00<00:00, 272kB/s]\n"
          ]
        },
        {
          "output_type": "stream",
          "name": "stdout",
          "text": [
            "Extracting /root/FMNIST/FashionMNIST/raw/train-labels-idx1-ubyte.gz to /root/FMNIST/FashionMNIST/raw\n",
            "\n",
            "Downloading http://fashion-mnist.s3-website.eu-central-1.amazonaws.com/t10k-images-idx3-ubyte.gz\n",
            "Downloading http://fashion-mnist.s3-website.eu-central-1.amazonaws.com/t10k-images-idx3-ubyte.gz to /root/FMNIST/FashionMNIST/raw/t10k-images-idx3-ubyte.gz\n"
          ]
        },
        {
          "output_type": "stream",
          "name": "stderr",
          "text": [
            "100%|██████████| 4.42M/4.42M [00:00<00:00, 5.01MB/s]\n"
          ]
        },
        {
          "output_type": "stream",
          "name": "stdout",
          "text": [
            "Extracting /root/FMNIST/FashionMNIST/raw/t10k-images-idx3-ubyte.gz to /root/FMNIST/FashionMNIST/raw\n",
            "\n",
            "Downloading http://fashion-mnist.s3-website.eu-central-1.amazonaws.com/t10k-labels-idx1-ubyte.gz\n",
            "Downloading http://fashion-mnist.s3-website.eu-central-1.amazonaws.com/t10k-labels-idx1-ubyte.gz to /root/FMNIST/FashionMNIST/raw/t10k-labels-idx1-ubyte.gz\n"
          ]
        },
        {
          "output_type": "stream",
          "name": "stderr",
          "text": [
            "100%|██████████| 5.15k/5.15k [00:00<00:00, 17.2MB/s]"
          ]
        },
        {
          "output_type": "stream",
          "name": "stdout",
          "text": [
            "Extracting /root/FMNIST/FashionMNIST/raw/t10k-labels-idx1-ubyte.gz to /root/FMNIST/FashionMNIST/raw\n",
            "\n"
          ]
        },
        {
          "output_type": "stream",
          "name": "stderr",
          "text": [
            "\n"
          ]
        }
      ]
    },
    {
      "cell_type": "code",
      "source": [
        "class FMNISTDataset(Dataset):\n",
        "    def __init__(self, x, y):\n",
        "        x = x.float() / 255  # Normalizes images to [0,1]\n",
        "        x = x.view(-1, 1, 28, 28)\n",
        "        self.x, self.y = x, y\n",
        "\n",
        "    def __getitem__(self, ix):\n",
        "        x, y = self.x[ix], self.y[ix]  # unpack tuple into variables\n",
        "        return x.to(device), y.to(device)\n",
        "\n",
        "    def __len__(self):\n",
        "        return len(self.x)"
      ],
      "metadata": {
        "id": "QsP6z8eytKgG"
      },
      "execution_count": 3,
      "outputs": []
    },
    {
      "cell_type": "code",
      "source": [
        "def get_data():\n",
        "    train = FMNISTDataset(tr_images, tr_targets)\n",
        "    trn_dl = DataLoader(train, batch_size=64, shuffle=True)         # batch size is 64\n",
        "    return trn_dl\n",
        "\n",
        "def get_val_data():\n",
        "    valid = FMNISTDataset(val_images, val_targets)\n",
        "    val_dl = DataLoader(valid, batch_size=1, shuffle=True)         # for our CAM, the batch size is 1\n",
        "    return val_dl"
      ],
      "metadata": {
        "id": "FznggVEYuB-T"
      },
      "execution_count": null,
      "outputs": []
    },
    {
      "cell_type": "code",
      "source": [
        "def get_model():\n",
        "    class neuralnet(nn.Module):\n",
        "        def __init__(self):\n",
        "            super().__init__()\n",
        "            self.conv_layer = nn.Conv2d(in_channels=1, out_channels=32, kernel_size=3, stride=1)\n",
        "            self.pool = nn.MaxPool2d(kernel_size=2)\n",
        "            self.flatten = nn.Flatten()\n",
        "            self.input_to_hidden_layer = nn.Linear(32 * 13 * 13, 128)\n",
        "            self.batch_norm = nn.BatchNorm1d(128)\n",
        "            self.hidden_layer_activation = nn.ReLU()\n",
        "            self.hidden_to_output_layer = nn.Linear(128, 10)\n",
        "\n",
        "        def forward(self, x):\n",
        "            x = self.conv_layer(x)\n",
        "            x = self.pool(x)\n",
        "            x = self.flatten(x)\n",
        "            x = self.input_to_hidden_layer(x)\n",
        "            x0 = self.batch_norm(x)\n",
        "            x1 = self.hidden_layer_activation(x0)\n",
        "            x2 = self.hidden_to_output_layer(x1)\n",
        "            return x2\n",
        "\n",
        "    model = neuralnet().to(device)\n",
        "    loss_fn = nn.CrossEntropyLoss()\n",
        "    optimizer = SGD(model.parameters(), lr=1e-2)\n",
        "    return model, loss_fn, optimizer"
      ],
      "metadata": {
        "id": "6YaPSGm9uPH7"
      },
      "execution_count": null,
      "outputs": []
    },
    {
      "cell_type": "code",
      "source": [
        "# loading up training data\n",
        "train_loader = get_data()\n",
        "val_loader = get_val_data()  # Get validation data\n",
        "model, loss_fn, optimizer = get_model()\n",
        "\n",
        "# training loop with tracking of loss\n",
        "num_epochs = 10\n",
        "train_losses = []\n",
        "\n",
        "for epoch in range(num_epochs):\n",
        "    model.train()\n",
        "    epoch_loss = 0\n",
        "\n",
        "    for x, y in train_loader:\n",
        "        x, y = x.to(device), y.to(device)\n",
        "        optimizer.zero_grad()\n",
        "        predictions = model(x)\n",
        "        loss = loss_fn(predictions, y)\n",
        "        loss.backward()\n",
        "        optimizer.step()\n",
        "        epoch_loss += loss.item()\n",
        "\n",
        "    average_loss = epoch_loss / len(train_loader)\n",
        "    train_losses.append(average_loss)\n",
        "    print(f'Epoch {epoch + 1}/{num_epochs}, Loss: {average_loss:.4f}')"
      ],
      "metadata": {
        "id": "BL4TWzo3uWug"
      },
      "execution_count": null,
      "outputs": []
    },
    {
      "cell_type": "markdown",
      "source": [
        "# ADDING THE CAMS"
      ],
      "metadata": {
        "id": "nm7ExFCHuc65"
      }
    },
    {
      "cell_type": "code",
      "source": [
        "# Function to generate and display CAMs\n",
        "def generate_cam(model, images, target_layer, class_index):\n",
        "    model.eval()\n",
        "    with torch.no_grad():\n",
        "        # Forward pass\n",
        "        output = model(images)\n",
        "        # Get the class scores\n",
        "        class_score = output[0, class_index]\n",
        "\n",
        "        # Backward pass to get gradients\n",
        "        model.zero_grad()\n",
        "        class_score.backward()\n",
        "\n",
        "        # Get the gradients and the activation of the target layer\n",
        "        gradients = target_layer.grad\n",
        "        activations = target_layer(images).detach()\n",
        "\n",
        "        # Compute the weights\n",
        "        weights = torch.mean(gradients, dim=[0, 2, 3])  # Global Average Pooling on gradients\n",
        "\n",
        "        # Create the CAM\n",
        "        cam = torch.zeros(activations.shape[2:], dtype=torch.float32)\n",
        "        for i in range(weights.shape[0]):\n",
        "            cam += weights[i] * activations[0, i, :, :]\n",
        "\n",
        "        # Normalize CAM\n",
        "        cam = nn.ReLU()(cam)\n",
        "        cam = cam - cam.min()\n",
        "        cam = cam / cam.max()\n",
        "        return cam"
      ],
      "metadata": {
        "id": "kO_h7WuIueR-"
      },
      "execution_count": null,
      "outputs": []
    },
    {
      "cell_type": "markdown",
      "source": [
        "# Display the CAMS (4)"
      ],
      "metadata": {
        "id": "FubfLMeRuh0z"
      }
    },
    {
      "cell_type": "code",
      "source": [
        "target_layer = model.conv_layer  # Using the conv layer for CAM\n",
        "for images, labels in val_loader:\n",
        "    for i in range(4):  # choose 4 CAM images\n",
        "        image = images[i].unsqueeze(0)\n",
        "        label = labels[i].item()\n",
        "        cam = generate_cam(model, image, target_layer, label)\n",
        "\n",
        "        # Plot the image and the CAM\n",
        "        plt.subplot(1, 2, 1)\n",
        "        plt.imshow(image[0].cpu().numpy(), cmap='gray')\n",
        "        plt.title(f'Image: {label}')\n",
        "        plt.axis('off')\n",
        "\n",
        "        plt.subplot(1, 2, 2)\n",
        "        plt.imshow(cam.cpu().numpy(), cmap='jet', alpha=0.5)  # Overlay CAM\n",
        "        plt.title('Class Activation Map')\n",
        "        plt.axis('off')\n",
        "\n",
        "        plt.show()\n",
        "\n",
        "    break  # Only display for the first batch"
      ],
      "metadata": {
        "id": "xl52qPNpumwK"
      },
      "execution_count": null,
      "outputs": []
    }
  ]
}