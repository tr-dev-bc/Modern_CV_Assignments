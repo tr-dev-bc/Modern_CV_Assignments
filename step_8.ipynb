{
  "nbformat": 4,
  "nbformat_minor": 0,
  "metadata": {
    "colab": {
      "provenance": [],
      "authorship_tag": "ABX9TyMPg99kdEtVuN8t7bOvOUw+",
      "include_colab_link": true
    },
    "kernelspec": {
      "name": "python3",
      "display_name": "Python 3"
    },
    "language_info": {
      "name": "python"
    }
  },
  "cells": [
    {
      "cell_type": "markdown",
      "metadata": {
        "id": "view-in-github",
        "colab_type": "text"
      },
      "source": [
        "<a href=\"https://colab.research.google.com/github/tr-dev-bc/Modern_CV_Assignments/blob/main/step_8.ipynb\" target=\"_parent\"><img src=\"https://colab.research.google.com/assets/colab-badge.svg\" alt=\"Open In Colab\"/></a>"
      ]
    },
    {
      "cell_type": "code",
      "execution_count": 47,
      "metadata": {
        "id": "sLsCeA-DtCeI"
      },
      "outputs": [],
      "source": [
        "from torch.utils.data import Dataset, DataLoader\n",
        "import torch\n",
        "import torch.nn as nn\n",
        "import numpy as np\n",
        "import matplotlib.pyplot as plt         # used to plot error later\n",
        "from torchvision import datasets, models, transforms\n"
      ]
    },
    {
      "cell_type": "code",
      "source": [
        "\n",
        "\n",
        "# Set device\n",
        "device = \"cuda\" if torch.cuda.is_available() else \"cpu\"  # switch for gpu else cpu\n",
        "\n",
        "# Load and normalize the Fashion-MNIST dataset\n",
        "data_folder = '~/FMNIST'\n",
        "fmnist = datasets.FashionMNIST(data_folder, download=True, train=False)\n",
        "tr_images = fmnist_train.data\n",
        "tr_targets = fmnist_train.targets\n",
        "val_images = fmnist.data          # getting validation images\n",
        "val_targets = fmnist.targets        # getting validation labels\n"
      ],
      "metadata": {
        "id": "PBYJbJChtIsb"
      },
      "execution_count": 48,
      "outputs": []
    },
    {
      "cell_type": "code",
      "source": [
        "class FMNISTDataset(Dataset):\n",
        "    def __init__(self, x, y):\n",
        "        x = x.float() / 255  # Normalize images to [0, 1]\n",
        "        x = x.view(-1, 1, 28, 28)\n",
        "        self.x, self.y = x, y\n",
        "\n",
        "    def __getitem__(self, ix):\n",
        "        x, y = self.x[ix], self.y[ix]  # unpack tuple into variables\n",
        "        return x.to(device), y.to(device)\n",
        "\n",
        "    def __len__(self):\n",
        "        return len(self.x)"
      ],
      "metadata": {
        "id": "QsP6z8eytKgG"
      },
      "execution_count": 49,
      "outputs": []
    },
    {
      "cell_type": "code",
      "source": [
        "def get_data():\n",
        "    train = FMNISTDataset(tr_images, tr_targets)\n",
        "    trn_dl = DataLoader(train, batch_size=64, shuffle=True)         # batch size is 64\n",
        "    return trn_dl"
      ],
      "metadata": {
        "id": "5ln3wzM5zVs6"
      },
      "execution_count": 50,
      "outputs": []
    },
    {
      "cell_type": "markdown",
      "source": [
        "# Adding validation function"
      ],
      "metadata": {
        "id": "4qwJQFSJzZg3"
      }
    },
    {
      "cell_type": "code",
      "source": [
        "# load validation data\n",
        "def get_val_data():\n",
        "    val = FMNISTDataset(val_images, val_targets)\n",
        "    val_dl = DataLoader(val, batch_size=64, shuffle=False)         # batch size is 64\n",
        "    return val_dl\n",
        "\n",
        "val_loader = get_val_data()"
      ],
      "metadata": {
        "id": "pMti1ftYzBJk"
      },
      "execution_count": 51,
      "outputs": []
    },
    {
      "cell_type": "code",
      "source": [],
      "metadata": {
        "id": "FznggVEYuB-T"
      },
      "execution_count": 51,
      "outputs": []
    },
    {
      "cell_type": "code",
      "source": [
        "def get_model():                  # Here i added back the layers from the RES model\n",
        "    class neuralnet(nn.Module):\n",
        "        def __init__(self):\n",
        "            super().__init__()\n",
        "            self.conv_layer = nn.Conv2d(in_channels=1, out_channels=32, kernel_size=3, stride=1)\n",
        "            self.pool = nn.MaxPool2d(kernel_size=2)\n",
        "            self.flatten = nn.Flatten()\n",
        "            self.input_to_hidden_layer = nn.Linear(32 * 13 * 13, 128)\n",
        "            self.batch_norm = nn.BatchNorm1d(128)\n",
        "            self.hidden_layer_activation = nn.ReLU()\n",
        "            self.hidden_to_output_layer = nn.Linear(128, 10)\n",
        "\n",
        "        def forward(self, x):\n",
        "            x = self.conv_layer(x)\n",
        "            x = self.pool(x)\n",
        "            x = self.flatten(x)\n",
        "            x = self.input_to_hidden_layer(x)\n",
        "            x0 = self.batch_norm(x)\n",
        "            x1 = self.hidden_layer_activation(x0)\n",
        "            x2 = self.hidden_to_output_layer(x1)\n",
        "            return x2\n",
        "\n",
        "    model = neuralnet().to(device)\n",
        "    loss_fn = nn.CrossEntropyLoss()\n",
        "    optimizer = SGD(model.parameters(), lr=1e-2)\n",
        "    return model, loss_fn, optimizer"
      ],
      "metadata": {
        "id": "6YaPSGm9uPH7"
      },
      "execution_count": 52,
      "outputs": []
    },
    {
      "cell_type": "markdown",
      "source": [
        "# ADDING THE CAMS"
      ],
      "metadata": {
        "id": "nm7ExFCHuc65"
      }
    },
    {
      "cell_type": "code",
      "source": [
        "# Function to generate and display CAMs\n",
        "def generate_cam(model, images, target_layer, class_index):\n",
        "    model.eval()\n",
        "    with torch.no_grad():\n",
        "        # Forward pass\n",
        "        output = model(images)\n",
        "\n",
        "        # Get the class score for the specified class index\n",
        "        class_score = output[0, class_index]\n",
        "\n",
        "        # Backward pass to get gradients\n",
        "        model.zero_grad()\n",
        "        class_score.backward()\n",
        "\n",
        "        # Get the gradients of the target layer\n",
        "        gradients = target_layer.weight.grad  # Use weight.grad for the layer\n",
        "        activations = target_layer(images).detach()\n",
        "\n",
        "        # Compute the weights\n",
        "        weights = torch.mean(gradients, dim=[0, 2, 3])  # Global Average Pooling on gradients\n",
        "\n",
        "        # Create the CAM\n",
        "        cam = torch.zeros(activations.shape[2:], dtype=torch.float32)\n",
        "        for i in range(weights.shape[0]):\n",
        "            cam += weights[i] * activations[0, i, :, :]\n",
        "\n",
        "        # Normalize CAM\n",
        "        cam = nn.ReLU()(cam)\n",
        "        cam = cam - cam.min()\n",
        "        cam = cam / cam.max()\n",
        "        return cam"
      ],
      "metadata": {
        "id": "kO_h7WuIueR-"
      },
      "execution_count": 53,
      "outputs": []
    },
    {
      "cell_type": "markdown",
      "source": [
        "# Display the CAMS (4)"
      ],
      "metadata": {
        "id": "FubfLMeRuh0z"
      }
    },
    {
      "cell_type": "code",
      "source": [
        "\n",
        "def display_cams(num_images=5):\n",
        "    val_dl = get_val_data()  # Use the existing validation data loader\n",
        "    images, labels = next(iter(val_dl))  # Get the images and labels\n",
        "\n",
        "    for i in range(num_images):\n",
        "        image = images[i].unsqueeze(0)  # Add batch dimension\n",
        "        label = labels[i].item()\n",
        "        cam = generate_cam(model, image, target_layer, label)\n",
        "\n",
        "        # Plot the image and the CAM\n",
        "        plt.subplot(1, 2, 1)\n",
        "        plt.imshow(image[0].cpu().numpy(), cmap='gray')\n",
        "        plt.title(f'Image: {label}')\n",
        "        plt.axis('off')\n",
        "\n",
        "        plt.subplot(1, 2, 2)\n",
        "        plt.imshow(cam.cpu().numpy(), cmap='jet', alpha=0.5)  # Overlay CAM\n",
        "        plt.title('Class Activation Map')\n",
        "        plt.axis('off')\n",
        "\n",
        "        plt.show()"
      ],
      "metadata": {
        "id": "xl52qPNpumwK"
      },
      "execution_count": 55,
      "outputs": []
    }
  ]
}