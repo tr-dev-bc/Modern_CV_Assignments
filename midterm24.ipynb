{
  "nbformat": 4,
  "nbformat_minor": 0,
  "metadata": {
    "colab": {
      "provenance": [],
      "include_colab_link": true
    },
    "kernelspec": {
      "name": "python3",
      "display_name": "Python 3"
    },
    "language_info": {
      "name": "python"
    }
  },
  "cells": [
    {
      "cell_type": "markdown",
      "metadata": {
        "id": "view-in-github",
        "colab_type": "text"
      },
      "source": [
        "<a href=\"https://colab.research.google.com/github/tr-dev-bc/Modern_CV_Assignments/blob/main/midterm24.ipynb\" target=\"_parent\"><img src=\"https://colab.research.google.com/assets/colab-badge.svg\" alt=\"Open In Colab\"/></a>"
      ]
    },
    {
      "cell_type": "code",
      "execution_count": 22,
      "metadata": {
        "id": "ivMIzLn_rfTo"
      },
      "outputs": [],
      "source": [
        "from torch.utils.data import Dataset, DataLoader\n",
        "import torch\n",
        "import torch.nn as nn\n",
        "import numpy as np\n",
        "import matplotlib.pyplot as plt         # used to plot error later\n",
        "# helps running in jupyter\n",
        "%matplotlib inline\n",
        "\n",
        "from torchvision import datasets\n",
        "\n",
        "# Set device\n",
        "device = \"cuda\" if torch.cuda.is_available() else \"cpu\"         # switch for gpu else cpu\n",
        "\n",
        "# load and normalize the fmnist dataset\n",
        "data_folder = '~/FMNIST'\n",
        "fmnist = datasets.FashionMNIST(data_folder, download=True, train=True)\n",
        "tr_images = fmnist.data\n",
        "tr_targets = fmnist.targets"
      ]
    },
    {
      "cell_type": "code",
      "source": [
        "class FMNISTDataset(Dataset):\n",
        "    def __init__(self, x, y):\n",
        "        x = x.float()\n",
        "        x = x.view(-1, 28 * 28) # flattens this into a vector (1D) - the view() method is used to reshape a tensor without changing its data.\n",
        "                             # converts the 28x28 pixel images into a single vector of 784 elements\n",
        "                             # -1 is a placeholder for one of the dimensions, allows PyTorch to automatically calculate that dimension based on the total number of elements\n",
        "        self.x, self.y = x, y\n",
        "    def __getitem__(self, ix):\n",
        "        x, y = self.x[ix], self.y[ix]  # unpack tuple into variables\n",
        "        return x.to(device), y.to(device)\n",
        "    def __len__(self):\n",
        "        return len(self.x)"
      ],
      "metadata": {
        "id": "vsqUQV_R2nJX"
      },
      "execution_count": 23,
      "outputs": []
    },
    {
      "cell_type": "code",
      "source": [
        "def get_data():\n",
        "    train = FMNISTDataset(tr_images, tr_targets)\n",
        "    trn_dl = DataLoader(train, batch_size=64, shuffle=True)         # batch size is 64\n",
        "    return trn_dl\n",
        "    #The DataLoader class in PyTorch loads dataset data, cuts it into batches, shuffles it"
      ],
      "metadata": {
        "id": "ISQFoNsN3LDH"
      },
      "execution_count": 24,
      "outputs": []
    },
    {
      "cell_type": "code",
      "source": [
        "from torch.optim import SGD\n",
        "def get_model():\n",
        "  class neuralnet(nn.Module):\n",
        "    def _init_(self):\n",
        "      super().__init__()\n",
        "      self.input_to_hidden_layer = nn.Linear(28 * 28,128) #128 neurons specified\n",
        "      self.batch_norm = nn.BatchNorm1d(128)\n",
        "      self.hidden_layer_activation = nn.ReLU()        #ReLU activation added\n",
        "      self.hidden_to_output_layer = nn.Linear(128,10)\n",
        "    def forward(self,x):\n",
        "      x = self.input_to_hidden_layer(x)\n",
        "      x0 = self.batch_norm(x)\n",
        "      x1 = self.hidden_layer_activation(x0)\n",
        "      x2 = self.hidden_to_output_layer(x1)\n",
        "      return x2, x1\n",
        "  model = neuralnet().to(device) # moves to the GPU to make it faster\n",
        "  loss_fn = nn.CrossEntropyLoss()     # requ ired cross entropy loss function\n",
        "  optimizer = SGD(model.parameters(), lr=1e-2) # model.parameters() retrieves all the parameters of the model that need to be optimized.\n",
        "  return model, loss_fn, optimizer"
      ],
      "metadata": {
        "id": "NY0ZKWGc3kuy"
      },
      "execution_count": 25,
      "outputs": []
    }
  ]
}