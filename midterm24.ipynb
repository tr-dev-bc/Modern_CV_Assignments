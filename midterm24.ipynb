{
  "nbformat": 4,
  "nbformat_minor": 0,
  "metadata": {
    "colab": {
      "provenance": [],
      "include_colab_link": true
    },
    "kernelspec": {
      "name": "python3",
      "display_name": "Python 3"
    },
    "language_info": {
      "name": "python"
    }
  },
  "cells": [
    {
      "cell_type": "markdown",
      "metadata": {
        "id": "view-in-github",
        "colab_type": "text"
      },
      "source": [
        "<a href=\"https://colab.research.google.com/github/tr-dev-bc/Modern_CV_Assignments/blob/main/midterm24.ipynb\" target=\"_parent\"><img src=\"https://colab.research.google.com/assets/colab-badge.svg\" alt=\"Open In Colab\"/></a>"
      ]
    },
    {
      "cell_type": "code",
      "execution_count": 7,
      "metadata": {
        "id": "ivMIzLn_rfTo"
      },
      "outputs": [],
      "source": [
        "from torch.utils.data import Dataset, DataLoader\n",
        "import torch\n",
        "import torch.nn as nn\n",
        "import numpy as np\n",
        "import matplotlib.pyplot as plt         # used to plot error later\n",
        "# helps running in jupyter\n",
        "%matplotlib inline\n",
        "\n",
        "from torchvision import datasets, transforms\n",
        "\n",
        "# Set device\n",
        "device = \"cuda\" if torch.cuda.is_available() else \"cpu\"         # switch for gpu else cpu\n",
        "\n",
        "# load and normalize the fmnist dataset\n",
        "data_folder = '~/FMNIST'\n",
        "fmnist = datasets.FashionMNIST(data_folder, download=True, train=True, transform=transform)\n",
        "tr_images = fmnist.data\n",
        "tr_targets = fmnist.targets"
      ]
    },
    {
      "cell_type": "code",
      "source": [
        "class FMNISTDataset(Dataset):\n",
        "    def __init__(self, x, y):\n",
        "        x = x.float()\n",
        "        x = x.view(-1,28*28) # flattens this into a vector (1D) - the view() method is used to reshape a tensor without changing its data.\n",
        "                             # converts the 28x28 pixel images into a single vector of 784 elements\n",
        "                             # -1 is a placeholder for one of the dimensions, allows PyTorch to automatically calculate that dimension based on the total number of elements\n",
        "        self.x, self.y = x, y\n",
        "    def __getitem__(self, ix):\n",
        "        x, y = self.x[ix], self.y[ix]\n",
        "        return x.to(device), y.to(device)\n",
        "    def __len__(self):\n",
        "        return len(self.x)"
      ],
      "metadata": {
        "id": "vsqUQV_R2nJX"
      },
      "execution_count": 10,
      "outputs": []
    },
    {
      "cell_type": "code",
      "source": [
        "def get_data():\n",
        "    train = FMNISTDataset(tr_images, tr_targets)\n",
        "    trn_dl = DataLoader(train, batch_size=64, shuffle=True)         # batch size is 64\n",
        "    return trn_dl\n",
        "    #The DataLoader class in PyTorch loads dataset data, cuts it into batches, shuffles it"
      ],
      "metadata": {
        "id": "ISQFoNsN3LDH"
      },
      "execution_count": 11,
      "outputs": []
    }
  ]
}